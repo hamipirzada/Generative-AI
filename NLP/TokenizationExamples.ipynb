{
 "cells": [
  {
   "cell_type": "code",
   "execution_count": 2,
   "id": "1bc6f204-4467-4d59-847e-5f93be8de1d3",
   "metadata": {},
   "outputs": [
    {
     "name": "stdout",
     "output_type": "stream",
     "text": [
      "Hello, Welcome to the Generative AI with Langchain and Huggingface course.\n",
      "Please do watch the entire course! to become an expert in Generative AI.\n",
      "\n"
     ]
    }
   ],
   "source": [
    "# Using the below Paragraph to create tokens using NLTK\n",
    "corpus = \"\"\"Hello, Welcome to the Generative AI with Langchain and Huggingface course.\n",
    "Please do watch the entire course! to become an expert in Generative AI.\n",
    "\"\"\"\n",
    "print(corpus)"
   ]
  },
  {
   "cell_type": "code",
   "execution_count": 3,
   "id": "0319de44-ba09-44d3-b5fa-e62c0a82ff17",
   "metadata": {},
   "outputs": [],
   "source": [
    "# Tokenization\n",
    "# Sentence --> Paragraphs\n",
    "from nltk.tokenize import sent_tokenize"
   ]
  },
  {
   "cell_type": "code",
   "execution_count": 4,
   "id": "f2a115e3-c500-48ad-b29b-faaa4b4edc2b",
   "metadata": {},
   "outputs": [],
   "source": [
    "documents = sent_tokenize(corpus)"
   ]
  },
  {
   "cell_type": "code",
   "execution_count": 5,
   "id": "7d15eaec-14b0-422e-99a4-d4b079329adb",
   "metadata": {},
   "outputs": [
    {
     "data": {
      "text/plain": [
       "['Hello, Welcome to the Generative AI with Langchain and Huggingface course.',\n",
       " 'Please do watch the entire course!',\n",
       " 'to become an expert in Generative AI.']"
      ]
     },
     "execution_count": 5,
     "metadata": {},
     "output_type": "execute_result"
    }
   ],
   "source": [
    "documents"
   ]
  },
  {
   "cell_type": "code",
   "execution_count": 6,
   "id": "94dd4301-fd28-4603-bbc0-fcbfd75fced6",
   "metadata": {},
   "outputs": [
    {
     "name": "stdout",
     "output_type": "stream",
     "text": [
      "Hello, Welcome to the Generative AI with Langchain and Huggingface course.\n",
      "Please do watch the entire course!\n",
      "to become an expert in Generative AI.\n"
     ]
    }
   ],
   "source": [
    "# Printing each sentence\n",
    "for sentence in documents:\n",
    "    print(sentence)"
   ]
  },
  {
   "cell_type": "code",
   "execution_count": 7,
   "id": "34a07855-a087-4bb8-86f2-581ad650be9c",
   "metadata": {},
   "outputs": [
    {
     "data": {
      "text/plain": [
       "['Hello',\n",
       " ',',\n",
       " 'Welcome',\n",
       " 'to',\n",
       " 'the',\n",
       " 'Generative',\n",
       " 'AI',\n",
       " 'with',\n",
       " 'Langchain',\n",
       " 'and',\n",
       " 'Huggingface',\n",
       " 'course',\n",
       " '.',\n",
       " 'Please',\n",
       " 'do',\n",
       " 'watch',\n",
       " 'the',\n",
       " 'entire',\n",
       " 'course',\n",
       " '!',\n",
       " 'to',\n",
       " 'become',\n",
       " 'an',\n",
       " 'expert',\n",
       " 'in',\n",
       " 'Generative',\n",
       " 'AI',\n",
       " '.']"
      ]
     },
     "execution_count": 7,
     "metadata": {},
     "output_type": "execute_result"
    }
   ],
   "source": [
    "# Tokenization\n",
    "# Paragraph --> Words\n",
    "# Sentences --> Words\n",
    "\n",
    "from nltk.tokenize import word_tokenize\n",
    "word_tokenize(corpus)"
   ]
  },
  {
   "cell_type": "code",
   "execution_count": 17,
   "id": "a3c9fbdd-a0e7-48d6-87ec-9fadf34122d6",
   "metadata": {},
   "outputs": [
    {
     "data": {
      "text/plain": [
       "['Hello',\n",
       " ',',\n",
       " 'Welcome',\n",
       " 'to',\n",
       " 'the',\n",
       " 'Generative',\n",
       " 'AI',\n",
       " 'with',\n",
       " 'Langchain',\n",
       " 'and',\n",
       " 'Huggingface',\n",
       " 'course.',\n",
       " 'Please',\n",
       " 'do',\n",
       " 'watch',\n",
       " 'the',\n",
       " 'entire',\n",
       " 'course',\n",
       " '!',\n",
       " 'to',\n",
       " 'become',\n",
       " 'an',\n",
       " 'expert',\n",
       " 'in',\n",
       " 'Generative',\n",
       " 'AI',\n",
       " '.']"
      ]
     },
     "execution_count": 17,
     "metadata": {},
     "output_type": "execute_result"
    }
   ],
   "source": [
    "''' TreebankwordTokenizer: It does not treat punctuation marks as separate words,\n",
    "but only at the end of the paragraph it will consider the . as the separate word'''\n",
    "# Let's use TreebankwordTokenizer\n",
    "from nltk.tokenize import TreebankWordTokenizer\n",
    "tokenizer= TreebankWordTokenizer()\n",
    "tokenizer.tokenize(corpus)"
   ]
  },
  {
   "cell_type": "code",
   "execution_count": null,
   "id": "16628fd1-d8bb-4f1c-8b3e-3b1bf6340a37",
   "metadata": {},
   "outputs": [],
   "source": []
  }
 ],
 "metadata": {
  "kernelspec": {
   "display_name": "Python 3 (ipykernel)",
   "language": "python",
   "name": "python3"
  },
  "language_info": {
   "codemirror_mode": {
    "name": "ipython",
    "version": 3
   },
   "file_extension": ".py",
   "mimetype": "text/x-python",
   "name": "python",
   "nbconvert_exporter": "python",
   "pygments_lexer": "ipython3",
   "version": "3.11.9"
  }
 },
 "nbformat": 4,
 "nbformat_minor": 5
}

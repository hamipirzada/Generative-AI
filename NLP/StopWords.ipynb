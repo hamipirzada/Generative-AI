{
 "cells": [
  {
   "cell_type": "code",
   "execution_count": 2,
   "id": "9ea4a3db-cf7e-49ac-ab28-c213d9477d13",
   "metadata": {},
   "outputs": [],
   "source": [
    "# With the help of stopwords we will remove the stop words from this paragraph\n",
    "paragraph = \"\"\"I have three visions for India. In 3000 years of our history, people from all over the\n",
    "                world have come and invaded us, captured our lands, conquered our minds. From Alexander\n",
    "                onwards, The Greeks, the Turks, the Moguls, the Portuguese, the British, the French, the \n",
    "                Dutch, all of them came and looted us, took over what was ours. Yet we have not done this\n",
    "                to any other nation. We have not conquered anyone. We have not grabbed their land, their \n",
    "                culture, their history and Tried to enforce our way of life on them. Why? Because we\n",
    "                respect the freedom of others.\n",
    "                That is why my first vision is that of FREEDOM. I believe that India got its first vision of this in 1857,\n",
    "                when we started the war of Independence. It is this freedom that we must protect and nurture and build on.\n",
    "                If we are not free, no one will respect us.\n",
    "                My second vision for India's DEVELOPMENT, For fifty years we have been A developing nation. It is time we\n",
    "                see ourselves as a developed nation. We are among top 5 nations of the world in terms of GDP. We have 10\n",
    "                percent growth rate in most areas. Our poverty levels are falling. Our achievements are being globally \n",
    "                recognized today. Yet we lack the self-confidence to see ourselves as a developed nation, self-reliant \n",
    "                and self-assured. Isn't this incorrect?\n",
    "                I have a THIRD vision. India must stand up to the world. Because I believe that, unless India stands up \n",
    "                to the world, no one will respect us. Only strength respects strength. We must be strong not only as a \n",
    "                military power but also as an economic power. Both must go hand-in-hand. My good fortune was to have \n",
    "                worked with three great minds. Dr. Vikram Sarabhai of the Dept. of space, Professor Satish Dhawan, who \n",
    "                succeeded him and Dr.Brahm Prakash, father of nuclear material. I was lucky to have worked with all three\n",
    "                of them closely and consider this the great opportunity of my life. I see four milestones in my career:\"\"\""
   ]
  },
  {
   "cell_type": "code",
   "execution_count": 51,
   "id": "a27977f9-e7fe-40bb-8dc8-817e77e08130",
   "metadata": {},
   "outputs": [],
   "source": [
    "import nltk\n",
    "from nltk.stem import PorterStemmer\n",
    "from nltk.corpus import stopwords\n",
    "from nltk.stem import SnowballStemmer\n",
    "from nltk.stem import WordNetLemmatizer"
   ]
  },
  {
   "cell_type": "code",
   "execution_count": 53,
   "id": "11f1e004-1bc6-4e36-9f75-a1ac87cad72b",
   "metadata": {},
   "outputs": [],
   "source": [
    "# Applying PorterStemmer to convert the above paragraph into a list of sentences\n",
    "stemmer = PorterStemmer()\n",
    "sentences = nltk.sent_tokenize(paragraph)"
   ]
  },
  {
   "cell_type": "code",
   "execution_count": 5,
   "id": "0ee39cc5-7b77-43fe-acbb-4cc28613854d",
   "metadata": {},
   "outputs": [],
   "source": [
    "# Apply stopwords and Filter and then apply stemming\n",
    "\n",
    "for i in range(len(sentences)):\n",
    "    words = nltk.word_tokenize(sentences[i])\n",
    "    words = [stemmer.stem(word) for word in words if word not in stopwords.words('english')]\n",
    "    sentences[i] = ' '.join(words) # Converting all the list of words into sentences "
   ]
  },
  {
   "cell_type": "code",
   "execution_count": 6,
   "id": "06e76104-b4b5-4caa-94b2-663dd318df7d",
   "metadata": {},
   "outputs": [
    {
     "data": {
      "text/plain": [
       "['i three vision india .',\n",
       " 'in 3000 year histori , peopl world come invad us , captur land , conquer mind .',\n",
       " 'from alexand onward , the greek , turk , mogul , portugues , british , french , dutch , came loot us , took .',\n",
       " 'yet done nation .',\n",
       " 'we conquer anyon .',\n",
       " 'we grab land , cultur , histori tri enforc way life .',\n",
       " 'whi ?',\n",
       " 'becaus respect freedom other .',\n",
       " 'that first vision freedom .',\n",
       " 'i believ india got first vision 1857 , start war independ .',\n",
       " 'it freedom must protect nurtur build .',\n",
       " 'if free , one respect us .',\n",
       " \"my second vision india 's develop , for fifti year a develop nation .\",\n",
       " 'it time see develop nation .',\n",
       " 'we among top 5 nation world term gdp .',\n",
       " 'we 10 percent growth rate area .',\n",
       " 'our poverti level fall .',\n",
       " 'our achiev global recogn today .',\n",
       " 'yet lack self-confid see develop nation , self-reli self-assur .',\n",
       " \"is n't incorrect ?\",\n",
       " 'i third vision .',\n",
       " 'india must stand world .',\n",
       " 'becaus i believ , unless india stand world , one respect us .',\n",
       " 'onli strength respect strength .',\n",
       " 'we must strong militari power also econom power .',\n",
       " 'both must go hand-in-hand .',\n",
       " 'my good fortun work three great mind .',\n",
       " 'dr. vikram sarabhai dept .',\n",
       " 'space , professor satish dhawan , succeed dr.brahm prakash , father nuclear materi .',\n",
       " 'i lucki work three close consid great opportun life .',\n",
       " 'i see four mileston career :']"
      ]
     },
     "execution_count": 6,
     "metadata": {},
     "output_type": "execute_result"
    }
   ],
   "source": [
    "sentences"
   ]
  },
  {
   "cell_type": "code",
   "execution_count": 55,
   "id": "206ee179-69dc-4f6b-bca9-f4bb984077cc",
   "metadata": {},
   "outputs": [],
   "source": [
    "# Now let's use snowballstemmer\n",
    "snowball_stemmer = SnowballStemmer('english')"
   ]
  },
  {
   "cell_type": "code",
   "execution_count": 57,
   "id": "04404671-20a3-40c2-8419-de7cfbd5f70f",
   "metadata": {},
   "outputs": [],
   "source": [
    "# Apply stopwords and filter and then apply snowball stemming\n",
    "\n",
    "for i in range(len(sentences)):\n",
    "    words = nltk.word_tokenize(sentences[i])\n",
    "    words = [snowball_stemmer.stem(word) for word in words if word not in stopwords.words('english')]\n",
    "    sentences[i] = ' '.join(words) "
   ]
  },
  {
   "cell_type": "code",
   "execution_count": 59,
   "id": "91c5fc37-4ade-45e3-a12b-c454f489bd6a",
   "metadata": {},
   "outputs": [
    {
     "data": {
      "text/plain": [
       "['i three vision india .',\n",
       " 'in 3000 year histori , peopl world come invad us , captur land , conquer mind .',\n",
       " 'from alexand onward , the greek , turk , mogul , portugues , british , french , dutch , came loot us , took .',\n",
       " 'yet done nation .',\n",
       " 'we conquer anyon .',\n",
       " 'we grab land , cultur , histori tri enforc way life .',\n",
       " 'whi ?',\n",
       " 'becaus respect freedom other .',\n",
       " 'that first vision freedom .',\n",
       " 'i believ india got first vision 1857 , start war independ .',\n",
       " 'it freedom must protect nurtur build .',\n",
       " 'if free , one respect us .',\n",
       " \"my second vision india 's develop , for fifti year a develop nation .\",\n",
       " 'it time see develop nation .',\n",
       " 'we among top 5 nation world term gdp .',\n",
       " 'we 10 percent growth rate area .',\n",
       " 'our poverti level fall .',\n",
       " 'our achiev global recogn today .',\n",
       " 'yet lack self-confid see develop nation , self-reli self-assur .',\n",
       " \"is n't incorrect ?\",\n",
       " 'i third vision .',\n",
       " 'india must stand world .',\n",
       " 'becaus i believ , unless india stand world , one respect us .',\n",
       " 'onli strength respect strength .',\n",
       " 'we must strong militari power also econom power .',\n",
       " 'both must go hand-in-hand .',\n",
       " 'my good fortun work three great mind .',\n",
       " 'dr. vikram sarabhai dept .',\n",
       " 'space , professor satish dhawan , succeed dr.brahm prakash , father nuclear materi .',\n",
       " 'i lucki work three close consid great opportun life .',\n",
       " 'i see four mileston career :']"
      ]
     },
     "execution_count": 59,
     "metadata": {},
     "output_type": "execute_result"
    }
   ],
   "source": [
    "sentences"
   ]
  },
  {
   "cell_type": "code",
   "execution_count": 47,
   "id": "0d78378c-c6a6-43f4-aaa1-b0cf76a068ef",
   "metadata": {},
   "outputs": [],
   "source": [
    "lemmatizer = WordNetLemmatizer()\n",
    "\n",
    "# Apply stopwords and filter and then apply lemmatization\n",
    "for i in range(len(sentences)):\n",
    "    words = nltk.word_tokenize(sentences[i])\n",
    "    words = [lemmatizer.lemmatize(word) for word in words if word not in stopwords.words('english')]\n",
    "    sentences[i] = ' '.join(words) "
   ]
  },
  {
   "cell_type": "code",
   "execution_count": 49,
   "id": "a052eeb2-d7bd-454f-b92a-59f6f0a2652c",
   "metadata": {},
   "outputs": [
    {
     "data": {
      "text/plain": [
       "['I three vision India .',\n",
       " 'In 3000 year history , people world come invaded u , captured land , conquered mind .',\n",
       " 'From Alexander onwards , The Greeks , Turks , Moguls , Portuguese , British , French , Dutch , came looted u , took .',\n",
       " 'Yet done nation .',\n",
       " 'We conquered anyone .',\n",
       " 'We grabbed land , culture , history Tried enforce way life .',\n",
       " 'Why ?',\n",
       " 'Because respect freedom others .',\n",
       " 'That first vision FREEDOM .',\n",
       " 'I believe India got first vision 1857 , started war Independence .',\n",
       " 'It freedom must protect nurture build .',\n",
       " 'If free , one respect u .',\n",
       " \"My second vision India 's DEVELOPMENT , For fifty year A developing nation .\",\n",
       " 'It time see developed nation .',\n",
       " 'We among top 5 nation world term GDP .',\n",
       " 'We 10 percent growth rate area .',\n",
       " 'Our poverty level falling .',\n",
       " 'Our achievement globally recognized today .',\n",
       " 'Yet lack self-confidence see developed nation , self-reliant self-assured .',\n",
       " \"Is n't incorrect ?\",\n",
       " 'I THIRD vision .',\n",
       " 'India must stand world .',\n",
       " 'Because I believe , unless India stand world , one respect u .',\n",
       " 'Only strength respect strength .',\n",
       " 'We must strong military power also economic power .',\n",
       " 'Both must go hand-in-hand .',\n",
       " 'My good fortune worked three great mind .',\n",
       " 'Dr. Vikram Sarabhai Dept .',\n",
       " 'space , Professor Satish Dhawan , succeeded Dr.Brahm Prakash , father nuclear material .',\n",
       " 'I lucky worked three closely consider great opportunity life .',\n",
       " 'I see four milestone career :']"
      ]
     },
     "execution_count": 49,
     "metadata": {},
     "output_type": "execute_result"
    }
   ],
   "source": [
    "sentences"
   ]
  },
  {
   "cell_type": "code",
   "execution_count": null,
   "id": "7965ed31-9852-4735-bf50-53abe6e5fe1d",
   "metadata": {},
   "outputs": [],
   "source": []
  }
 ],
 "metadata": {
  "kernelspec": {
   "display_name": "Python 3 (ipykernel)",
   "language": "python",
   "name": "python3"
  },
  "language_info": {
   "codemirror_mode": {
    "name": "ipython",
    "version": 3
   },
   "file_extension": ".py",
   "mimetype": "text/x-python",
   "name": "python",
   "nbconvert_exporter": "python",
   "pygments_lexer": "ipython3",
   "version": "3.11.9"
  }
 },
 "nbformat": 4,
 "nbformat_minor": 5
}

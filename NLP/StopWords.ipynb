{
 "cells": [
  {
   "cell_type": "code",
   "execution_count": 2,
   "id": "9ea4a3db-cf7e-49ac-ab28-c213d9477d13",
   "metadata": {},
   "outputs": [],
   "source": [
    "# With the help of stopwords we will remove the stop words from this paragraph\n",
    "paragraph = \"\"\"I have three visions for India. In 3000 years of our history, people from all over the\n",
    "                world have come and invaded us, captured our lands, conquered our minds. From Alexander\n",
    "                onwards, The Greeks, the Turks, the Moguls, the Portuguese, the British, the French, the \n",
    "                Dutch, all of them came and looted us, took over what was ours. Yet we have not done this\n",
    "                to any other nation. We have not conquered anyone. We have not grabbed their land, their \n",
    "                culture, their history and Tried to enforce our way of life on them. Why? Because we\n",
    "                respect the freedom of others.\n",
    "                That is why my first vision is that of FREEDOM. I believe that India got its first vision of this in 1857,\n",
    "                when we started the war of Independence. It is this freedom that we must protect and nurture and build on.\n",
    "                If we are not free, no one will respect us.\n",
    "                My second vision for India's DEVELOPMENT, For fifty years we have been A developing nation. It is time we\n",
    "                see ourselves as a developed nation. We are among top 5 nations of the world in terms of GDP. We have 10\n",
    "                percent growth rate in most areas. Our poverty levels are falling. Our achievements are being globally \n",
    "                recognized today. Yet we lack the self-confidence to see ourselves as a developed nation, self-reliant \n",
    "                and self-assured. Isn't this incorrect?\n",
    "                I have a THIRD vision. India must stand up to the world. Because I believe that, unless India stands up \n",
    "                to the world, no one will respect us. Only strength respects strength. We must be strong not only as a \n",
    "                military power but also as an economic power. Both must go hand-in-hand. My good fortune was to have \n",
    "                worked with three great minds. Dr. Vikram Sarabhai of the Dept. of space, Professor Satish Dhawan, who \n",
    "                succeeded him and Dr.Brahm Prakash, father of nuclear material. I was lucky to have worked with all three\n",
    "                of them closely and consider this the great opportunity of my life. I see four milestones in my career:\"\"\""
   ]
  },
  {
   "cell_type": "code",
   "execution_count": 4,
   "id": "a27977f9-e7fe-40bb-8dc8-817e77e08130",
   "metadata": {},
   "outputs": [],
   "source": [
    "from nltk.stem import PorterStemmer\n",
    "from nltk.corpus import stopwords"
   ]
  },
  {
   "cell_type": "code",
   "execution_count": 6,
   "id": "0c19cd7b-df3b-478e-9ef2-581f69a743dd",
   "metadata": {},
   "outputs": [
    {
     "ename": "TypeError",
     "evalue": "'LazyCorpusLoader' object is not callable",
     "output_type": "error",
     "traceback": [
      "\u001b[0;31m---------------------------------------------------------------------------\u001b[0m",
      "\u001b[0;31mTypeError\u001b[0m                                 Traceback (most recent call last)",
      "Cell \u001b[0;32mIn[6], line 1\u001b[0m\n\u001b[0;32m----> 1\u001b[0m st_words \u001b[38;5;241m=\u001b[39m \u001b[43mstopwords\u001b[49m\u001b[43m(\u001b[49m\u001b[43m)\u001b[49m\n",
      "\u001b[0;31mTypeError\u001b[0m: 'LazyCorpusLoader' object is not callable"
     ]
    }
   ],
   "source": [
    "st_words = stopwords()"
   ]
  },
  {
   "cell_type": "code",
   "execution_count": null,
   "id": "11f1e004-1bc6-4e36-9f75-a1ac87cad72b",
   "metadata": {},
   "outputs": [],
   "source": []
  }
 ],
 "metadata": {
  "kernelspec": {
   "display_name": "Python 3 (ipykernel)",
   "language": "python",
   "name": "python3"
  },
  "language_info": {
   "codemirror_mode": {
    "name": "ipython",
    "version": 3
   },
   "file_extension": ".py",
   "mimetype": "text/x-python",
   "name": "python",
   "nbconvert_exporter": "python",
   "pygments_lexer": "ipython3",
   "version": "3.11.9"
  }
 },
 "nbformat": 4,
 "nbformat_minor": 5
}

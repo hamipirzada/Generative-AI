{
 "cells": [
  {
   "cell_type": "markdown",
   "id": "cea10454-c212-4954-b22b-c0f5443e4db2",
   "metadata": {},
   "source": [
    "## Lemmatization\n",
    "    The goal of lemmatization is to reduce a word to its root form, also called a lemma. For example, the verb \"running\" would be identified as \"run.\"\n",
    "   \n",
    "    NLTK provides WordNetLemmatizer class which is a thin wrapper around the wordnet corpus. This class uses morphy() function to the WordNet CorpusReader class to find a lemma. Let's understand it with an example."
   ]
  },
  {
   "cell_type": "code",
   "execution_count": 13,
   "id": "9aa79a17-7514-4a9b-8e35-db1f09d21d4a",
   "metadata": {},
   "outputs": [
    {
     "data": {
      "text/plain": [
       "'go'"
      ]
     },
     "execution_count": 13,
     "metadata": {},
     "output_type": "execute_result"
    }
   ],
   "source": [
    "from nltk.stem import WordNetLemmatizer\n",
    "lemmatizer = WordNetLemmatizer()\n",
    "\n",
    "'''\n",
    "Pos argument -->\n",
    "1. Noun : n,\n",
    "2. Verb : v,\n",
    "3. Adjective : a,\n",
    "4. Adverb : r\n",
    "'''\n",
    "# by default the second argument which is pos tag is set to n (Noun)\n",
    "lemmatizer.lemmatize(\"going\", pos='v')"
   ]
  },
  {
   "cell_type": "code",
   "execution_count": 15,
   "id": "aee7df6c-f53a-4fc3-b761-eaa5d9d9e578",
   "metadata": {},
   "outputs": [],
   "source": [
    "words = ['eating', 'eats', 'eaten', 'writing', 'writes', 'programming', 'programs', 'history', 'finally', 'finalize']"
   ]
  },
  {
   "cell_type": "code",
   "execution_count": 17,
   "id": "e944ca90-2254-4c71-8ca3-e44370d822a3",
   "metadata": {},
   "outputs": [
    {
     "name": "stdout",
     "output_type": "stream",
     "text": [
      "eating--->eat\n",
      "eats--->eat\n",
      "eaten--->eat\n",
      "writing--->write\n",
      "writes--->write\n",
      "programming--->program\n",
      "programs--->program\n",
      "history--->history\n",
      "finally--->finally\n",
      "finalize--->finalize\n"
     ]
    }
   ],
   "source": [
    "for word in words:\n",
    "    print(word+'--->'+lemmatizer.lemmatize(word, pos='v'))"
   ]
  },
  {
   "cell_type": "code",
   "execution_count": 23,
   "id": "8e7ddb19-dadb-44d0-b348-176ac94f2653",
   "metadata": {},
   "outputs": [
    {
     "data": {
      "text/plain": [
       "'go'"
      ]
     },
     "execution_count": 23,
     "metadata": {},
     "output_type": "execute_result"
    }
   ],
   "source": [
    "lemmatizer.lemmatize('goes', pos='v')"
   ]
  },
  {
   "cell_type": "code",
   "execution_count": null,
   "id": "21a13a92-35dd-4aca-b2ae-3409bdfd8b14",
   "metadata": {},
   "outputs": [],
   "source": []
  }
 ],
 "metadata": {
  "kernelspec": {
   "display_name": "Python 3 (ipykernel)",
   "language": "python",
   "name": "python3"
  },
  "language_info": {
   "codemirror_mode": {
    "name": "ipython",
    "version": 3
   },
   "file_extension": ".py",
   "mimetype": "text/x-python",
   "name": "python",
   "nbconvert_exporter": "python",
   "pygments_lexer": "ipython3",
   "version": "3.11.9"
  }
 },
 "nbformat": 4,
 "nbformat_minor": 5
}

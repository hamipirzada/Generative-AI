{
 "cells": [
  {
   "cell_type": "markdown",
   "id": "26885085-adff-4ebc-9efe-41106f18035f",
   "metadata": {},
   "source": [
    "## Part-of-speech tagging\n",
    "    Part-of-speech tagging (POS tagging) is the task of tagging a word in a text with its part of speech. A part of speech is a category of words with similar grammatical properties. Common English parts of speech are noun, verb, adjective, adverb, pronoun, preposition, conjunction, etc.\n",
    "\n",
    "    Example:\n",
    "\n",
    "| Vinken | 61 | years | old |\n",
    "| --- | --- | --- | --- |\n",
    "| NNP | CD | NNS | JJ |\n",
    "\n",
    "    - NNP : Proper Noun, Singular\n",
    "    - CD : Cardial Digit\n",
    "    - NNS : Noun Plural\n",
    "    - JJ : Adjective"
   ]
  },
  {
   "cell_type": "code",
   "execution_count": 10,
   "id": "4499166d-81d0-430d-b514-9e1816547d9f",
   "metadata": {},
   "outputs": [],
   "source": [
    "paragraph = \"\"\"I have three visions for India. In 3000 years of our history, people from all over the\n",
    "                world have come and invaded us, captured our lands, conquered our minds. From Alexander\n",
    "                onwards, The Greeks, the Turks, the Moguls, the Portuguese, the British, the French, the \n",
    "                Dutch, all of them came and looted us, took over what was ours. Yet we have not done this\n",
    "                to any other nation. We have not conquered anyone. We have not grabbed their land, their \n",
    "                culture, their history and Tried to enforce our way of life on them. Why? Because we\n",
    "                respect the freedom of others.\n",
    "                That is why my first vision is that of FREEDOM. I believe that India got its first vision of this in 1857,\n",
    "                when we started the war of Independence. It is this freedom that we must protect and nurture and build on.\n",
    "                If we are not free, no one will respect us.\n",
    "                My second vision for India's DEVELOPMENT, For fifty years we have been A developing nation. It is time we\n",
    "                see ourselves as a developed nation. We are among top 5 nations of the world in terms of GDP. We have 10\n",
    "                percent growth rate in most areas. Our poverty levels are falling. Our achievements are being globally \n",
    "                recognized today. Yet we lack the self-confidence to see ourselves as a developed nation, self-reliant \n",
    "                and self-assured. Isn't this incorrect?\n",
    "                I have a THIRD vision. India must stand up to the world. Because I believe that, unless India stands up \n",
    "                to the world, no one will respect us. Only strength respects strength. We must be strong not only as a \n",
    "                military power but also as an economic power. Both must go hand-in-hand. My good fortune was to have \n",
    "                worked with three great minds. Dr. Vikram Sarabhai of the Dept. of space, Professor Satish Dhawan, who \n",
    "                succeeded him and Dr.Brahm Prakash, father of nuclear material. I was lucky to have worked with all three\n",
    "                of them closely and consider this the great opportunity of my life. I see four milestones in my career:\"\"\""
   ]
  },
  {
   "cell_type": "code",
   "execution_count": 35,
   "id": "675adffe-8a1f-43b8-ab06-0d5ab56d8772",
   "metadata": {},
   "outputs": [],
   "source": [
    "import nltk\n",
    "from nltk.corpus import stopwords\n",
    "sentences = nltk.sent_tokenize(paragraph)"
   ]
  },
  {
   "cell_type": "code",
   "execution_count": 37,
   "id": "a5486861-56eb-4269-b536-da7fe21962d0",
   "metadata": {},
   "outputs": [
    {
     "data": {
      "text/plain": [
       "['I have three visions for India.',\n",
       " 'In 3000 years of our history, people from all over the\\n                world have come and invaded us, captured our lands, conquered our minds.',\n",
       " 'From Alexander\\n                onwards, The Greeks, the Turks, the Moguls, the Portuguese, the British, the French, the \\n                Dutch, all of them came and looted us, took over what was ours.',\n",
       " 'Yet we have not done this\\n                to any other nation.',\n",
       " 'We have not conquered anyone.',\n",
       " 'We have not grabbed their land, their \\n                culture, their history and Tried to enforce our way of life on them.',\n",
       " 'Why?',\n",
       " 'Because we\\n                respect the freedom of others.',\n",
       " 'That is why my first vision is that of FREEDOM.',\n",
       " 'I believe that India got its first vision of this in 1857,\\n                when we started the war of Independence.',\n",
       " 'It is this freedom that we must protect and nurture and build on.',\n",
       " 'If we are not free, no one will respect us.',\n",
       " \"My second vision for India's DEVELOPMENT, For fifty years we have been A developing nation.\",\n",
       " 'It is time we\\n                see ourselves as a developed nation.',\n",
       " 'We are among top 5 nations of the world in terms of GDP.',\n",
       " 'We have 10\\n                percent growth rate in most areas.',\n",
       " 'Our poverty levels are falling.',\n",
       " 'Our achievements are being globally \\n                recognized today.',\n",
       " 'Yet we lack the self-confidence to see ourselves as a developed nation, self-reliant \\n                and self-assured.',\n",
       " \"Isn't this incorrect?\",\n",
       " 'I have a THIRD vision.',\n",
       " 'India must stand up to the world.',\n",
       " 'Because I believe that, unless India stands up \\n                to the world, no one will respect us.',\n",
       " 'Only strength respects strength.',\n",
       " 'We must be strong not only as a \\n                military power but also as an economic power.',\n",
       " 'Both must go hand-in-hand.',\n",
       " 'My good fortune was to have \\n                worked with three great minds.',\n",
       " 'Dr. Vikram Sarabhai of the Dept.',\n",
       " 'of space, Professor Satish Dhawan, who \\n                succeeded him and Dr.Brahm Prakash, father of nuclear material.',\n",
       " 'I was lucky to have worked with all three\\n                of them closely and consider this the great opportunity of my life.',\n",
       " 'I see four milestones in my career:']"
      ]
     },
     "execution_count": 37,
     "metadata": {},
     "output_type": "execute_result"
    }
   ],
   "source": [
    "sentences"
   ]
  },
  {
   "cell_type": "code",
   "execution_count": 43,
   "id": "caf05dc3-b470-45d5-b93c-62d7c6945d53",
   "metadata": {},
   "outputs": [
    {
     "name": "stdout",
     "output_type": "stream",
     "text": [
      "[('I', 'PRP'), ('three', 'CD'), ('visions', 'NNS'), ('India', 'NNP'), ('.', '.')]\n",
      "[('In', 'IN'), ('3000', 'CD'), ('years', 'NNS'), ('history', 'NN'), (',', ','), ('people', 'NNS'), ('world', 'NN'), ('come', 'VBP'), ('invaded', 'VBN'), ('us', 'PRP'), (',', ','), ('captured', 'VBD'), ('lands', 'NNS'), (',', ','), ('conquered', 'VBD'), ('minds', 'NNS'), ('.', '.')]\n",
      "[('From', 'IN'), ('Alexander', 'NNP'), ('onwards', 'NNS'), (',', ','), ('The', 'DT'), ('Greeks', 'NNP'), (',', ','), ('Turks', 'NNP'), (',', ','), ('Moguls', 'NNP'), (',', ','), ('Portuguese', 'NNP'), (',', ','), ('British', 'NNP'), (',', ','), ('French', 'NNP'), (',', ','), ('Dutch', 'NNP'), (',', ','), ('came', 'VBD'), ('looted', 'JJ'), ('us', 'PRP'), (',', ','), ('took', 'VBD'), ('.', '.')]\n",
      "[('Yet', 'RB'), ('done', 'VBN'), ('nation', 'NN'), ('.', '.')]\n",
      "[('We', 'PRP'), ('conquered', 'VBD'), ('anyone', 'NN'), ('.', '.')]\n",
      "[('We', 'PRP'), ('grabbed', 'VBD'), ('land', 'NN'), (',', ','), ('culture', 'NN'), (',', ','), ('history', 'NN'), ('Tried', 'NNP'), ('enforce', 'NN'), ('way', 'NN'), ('life', 'NN'), ('.', '.')]\n",
      "[('Why', 'WRB'), ('?', '.')]\n",
      "[('Because', 'IN'), ('respect', 'NN'), ('freedom', 'NN'), ('others', 'NNS'), ('.', '.')]\n",
      "[('That', 'DT'), ('first', 'JJ'), ('vision', 'NN'), ('FREEDOM', 'NNP'), ('.', '.')]\n",
      "[('I', 'PRP'), ('believe', 'VBP'), ('India', 'NNP'), ('got', 'VBD'), ('first', 'JJ'), ('vision', 'NN'), ('1857', 'CD'), (',', ','), ('started', 'VBD'), ('war', 'NN'), ('Independence', 'NN'), ('.', '.')]\n",
      "[('It', 'PRP'), ('freedom', 'NN'), ('must', 'MD'), ('protect', 'VB'), ('nurture', 'NN'), ('build', 'NN'), ('.', '.')]\n",
      "[('If', 'IN'), ('free', 'JJ'), (',', ','), ('one', 'CD'), ('respect', 'NN'), ('us', 'PRP'), ('.', '.')]\n",
      "[('My', 'PRP$'), ('second', 'JJ'), ('vision', 'NN'), ('India', 'NNP'), (\"'s\", 'POS'), ('DEVELOPMENT', 'NNP'), (',', ','), ('For', 'IN'), ('fifty', 'JJ'), ('years', 'NNS'), ('A', 'DT'), ('developing', 'JJ'), ('nation', 'NN'), ('.', '.')]\n",
      "[('It', 'PRP'), ('time', 'NN'), ('see', 'VB'), ('developed', 'JJ'), ('nation', 'NN'), ('.', '.')]\n",
      "[('We', 'PRP'), ('among', 'IN'), ('top', 'JJ'), ('5', 'CD'), ('nations', 'NNS'), ('world', 'NN'), ('terms', 'NNS'), ('GDP', 'NNP'), ('.', '.')]\n",
      "[('We', 'PRP'), ('10', 'CD'), ('percent', 'JJ'), ('growth', 'NN'), ('rate', 'NN'), ('areas', 'NNS'), ('.', '.')]\n",
      "[('Our', 'PRP$'), ('poverty', 'NN'), ('levels', 'NNS'), ('falling', 'VBG'), ('.', '.')]\n",
      "[('Our', 'PRP$'), ('achievements', 'NNS'), ('globally', 'RB'), ('recognized', 'VBN'), ('today', 'NN'), ('.', '.')]\n",
      "[('Yet', 'RB'), ('lack', 'JJ'), ('self-confidence', 'NN'), ('see', 'NN'), ('developed', 'JJ'), ('nation', 'NN'), (',', ','), ('self-reliant', 'JJ'), ('self-assured', 'JJ'), ('.', '.')]\n",
      "[('Is', 'VBZ'), (\"n't\", 'RB'), ('incorrect', 'VB'), ('?', '.')]\n",
      "[('I', 'PRP'), ('THIRD', 'VBP'), ('vision', 'NN'), ('.', '.')]\n",
      "[('India', 'NNP'), ('must', 'MD'), ('stand', 'VB'), ('world', 'NN'), ('.', '.')]\n",
      "[('Because', 'IN'), ('I', 'PRP'), ('believe', 'VBP'), (',', ','), ('unless', 'IN'), ('India', 'NNP'), ('stands', 'VBZ'), ('world', 'NN'), (',', ','), ('one', 'CD'), ('respect', 'NN'), ('us', 'PRP'), ('.', '.')]\n",
      "[('Only', 'RB'), ('strength', 'NN'), ('respects', 'NNS'), ('strength', 'NN'), ('.', '.')]\n",
      "[('We', 'PRP'), ('must', 'MD'), ('strong', 'JJ'), ('military', 'JJ'), ('power', 'NN'), ('also', 'RB'), ('economic', 'JJ'), ('power', 'NN'), ('.', '.')]\n",
      "[('Both', 'DT'), ('must', 'MD'), ('go', 'VB'), ('hand-in-hand', 'NN'), ('.', '.')]\n",
      "[('My', 'PRP$'), ('good', 'JJ'), ('fortune', 'NN'), ('worked', 'VBD'), ('three', 'CD'), ('great', 'JJ'), ('minds', 'NNS'), ('.', '.')]\n",
      "[('Dr.', 'NNP'), ('Vikram', 'NNP'), ('Sarabhai', 'NNP'), ('Dept', 'NNP'), ('.', '.')]\n",
      "[('space', 'NN'), (',', ','), ('Professor', 'NNP'), ('Satish', 'NNP'), ('Dhawan', 'NNP'), (',', ','), ('succeeded', 'VBD'), ('Dr.Brahm', 'NNP'), ('Prakash', 'NNP'), (',', ','), ('father', 'RB'), ('nuclear', 'JJ'), ('material', 'NN'), ('.', '.')]\n",
      "[('I', 'PRP'), ('lucky', 'VBP'), ('worked', 'VBD'), ('three', 'CD'), ('closely', 'RB'), ('consider', 'VBP'), ('great', 'JJ'), ('opportunity', 'NN'), ('life', 'NN'), ('.', '.')]\n",
      "[('I', 'PRP'), ('see', 'VBP'), ('four', 'CD'), ('milestones', 'NNS'), ('career', 'NN'), (':', ':')]\n"
     ]
    }
   ],
   "source": [
    "for i in range(len(sentences)):\n",
    "    words = nltk.word_tokenize(sentences[i])\n",
    "    words = [word for word in words if word not in stopwords.words('english')]\n",
    "    pos_tag = nltk.pos_tag(words)\n",
    "    print(pos_tag)"
   ]
  },
  {
   "cell_type": "code",
   "execution_count": 57,
   "id": "4664fdf2-f78d-4e34-a4f6-75427024c2c1",
   "metadata": {},
   "outputs": [
    {
     "name": "stdout",
     "output_type": "stream",
     "text": [
      "[('Taj', 'NNP'), ('Mahal', 'NNP'), ('is', 'VBZ'), ('a', 'DT'), ('beautiful', 'JJ'), ('monument', 'NN')]\n"
     ]
    }
   ],
   "source": [
    "print(nltk.pos_tag('Taj Mahal is a beautiful monument'.split()))\n"
   ]
  },
  {
   "cell_type": "code",
   "execution_count": null,
   "id": "045272f6-6574-4e00-9792-b6f01d39f4dc",
   "metadata": {},
   "outputs": [],
   "source": []
  }
 ],
 "metadata": {
  "kernelspec": {
   "display_name": "Python 3 (ipykernel)",
   "language": "python",
   "name": "python3"
  },
  "language_info": {
   "codemirror_mode": {
    "name": "ipython",
    "version": 3
   },
   "file_extension": ".py",
   "mimetype": "text/x-python",
   "name": "python",
   "nbconvert_exporter": "python",
   "pygments_lexer": "ipython3",
   "version": "3.11.9"
  }
 },
 "nbformat": 4,
 "nbformat_minor": 5
}

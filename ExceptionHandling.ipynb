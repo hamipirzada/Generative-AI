{
 "cells": [
  {
   "cell_type": "markdown",
   "id": "d098a8c6-119a-4133-ae3b-51e9c78bd44e",
   "metadata": {},
   "source": [
    "## Understanding Exceptions\n",
    "    Exception handling in Python allows us to handle errors gracefully and take corrective actions without stopping the execution of the program. This notebook will cover the basics of exceptions, including how to use try, except, else and finally blocks.\n",
    "## What are Exceptions?\n",
    "    Exceptions are events that disrupt the normal flow of a program. They occur when an error is encountered during program execution. Common exceptions include:\n",
    "    \n",
    "        1. ZeroDivivionError: Dividing by zero.\n",
    "        2. FileNotFoundError: File not found.\n",
    "        3. ValueError: Invalid value.\n",
    "        4. TypeError: Invalid type."
   ]
  },
  {
   "cell_type": "code",
   "execution_count": 6,
   "id": "12524d4f-3f7c-4953-a166-4b9e4f85ecd5",
   "metadata": {},
   "outputs": [
    {
     "name": "stdout",
     "output_type": "stream",
     "text": [
      "The variable has not been assigned\n"
     ]
    }
   ],
   "source": [
    "# Exception try, except block\n",
    "\n",
    "try:\n",
    "    a=b\n",
    "except:\n",
    "    print(\"The variable has not been assigned\")"
   ]
  },
  {
   "cell_type": "code",
   "execution_count": 10,
   "id": "37bb2470-716e-4ccb-819a-aab7b2d26793",
   "metadata": {},
   "outputs": [
    {
     "name": "stdout",
     "output_type": "stream",
     "text": [
      "name 'b' is not defined\n"
     ]
    }
   ],
   "source": [
    "# Using inbuild class 'NameError' to catch the error\n",
    "\n",
    "try:\n",
    "    a=b\n",
    "except NameError as er:\n",
    "    print(er)"
   ]
  },
  {
   "cell_type": "code",
   "execution_count": 18,
   "id": "6fbbddd1-611f-4dde-b71d-e8c78f288fec",
   "metadata": {},
   "outputs": [
    {
     "name": "stdout",
     "output_type": "stream",
     "text": [
      "division by zero\n",
      "Please enter the denominator greater than zero\n"
     ]
    }
   ],
   "source": [
    "# ZeroDivisionError\n",
    "\n",
    "try:\n",
    "    result = 25/0\n",
    "except ZeroDivisionError as zde:\n",
    "    print(zde)\n",
    "    print(\"Please enter the denominator greater than zero\")"
   ]
  },
  {
   "cell_type": "code",
   "execution_count": 27,
   "id": "dc992e93-4d66-489f-ba8e-7fe89bdbbeba",
   "metadata": {},
   "outputs": [
    {
     "name": "stdout",
     "output_type": "stream",
     "text": [
      "name 'a' is not defined\n"
     ]
    }
   ],
   "source": [
    "try:\n",
    "    result = 25/a\n",
    "except ZeroDivisionError as zde:\n",
    "    print(zde)\n",
    "    print(\"Please enter the denominator greater than zero\")\n",
    "except Exception as ex:\n",
    "    print(ex)"
   ]
  },
  {
   "cell_type": "code",
   "execution_count": null,
   "id": "70e4ac60-382f-431b-9d8b-a2da95a8f5a1",
   "metadata": {},
   "outputs": [],
   "source": []
  }
 ],
 "metadata": {
  "kernelspec": {
   "display_name": "Python 3 (ipykernel)",
   "language": "python",
   "name": "python3"
  },
  "language_info": {
   "codemirror_mode": {
    "name": "ipython",
    "version": 3
   },
   "file_extension": ".py",
   "mimetype": "text/x-python",
   "name": "python",
   "nbconvert_exporter": "python",
   "pygments_lexer": "ipython3",
   "version": "3.11.9"
  }
 },
 "nbformat": 4,
 "nbformat_minor": 5
}

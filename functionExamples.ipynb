{
 "cells": [
  {
   "cell_type": "markdown",
   "id": "f6e2cf27-8136-47c5-ba8d-c09d3bf5a2ec",
   "metadata": {},
   "source": [
    "### Function to check if the password is strong or not"
   ]
  },
  {
   "cell_type": "code",
   "execution_count": 3,
   "id": "2a5e3e8d-1638-493c-b592-474889666120",
   "metadata": {},
   "outputs": [],
   "source": [
    "# Creating a function to check password \n",
    "\n",
    "def pswd_checker(password):\n",
    "    if len(password) < 8:\n",
    "        return False\n",
    "    if not any(char.isdigit() for char in password):\n",
    "        return False\n",
    "    if not any(char.islower() for char in password):\n",
    "        return False\n",
    "    if not any(char.isupper() for char in password):\n",
    "        return False\n",
    "    if not any(char in '!@#$%&*?()_-' for char in password):\n",
    "        return False\n",
    "    return True\n",
    "    \n"
   ]
  },
  {
   "cell_type": "code",
   "execution_count": 4,
   "id": "945cf97c-6f2c-42fe-8b92-76b26b5bf2c7",
   "metadata": {},
   "outputs": [
    {
     "name": "stdout",
     "output_type": "stream",
     "text": [
      "True\n",
      "False\n"
     ]
    }
   ],
   "source": [
    "## Calling the function\n",
    "\n",
    "print(pswd_checker('Pass@word3'))\n",
    "print(pswd_checker('Pass@word'))"
   ]
  },
  {
   "cell_type": "markdown",
   "id": "2a6ec0b8-d5d2-4e23-afda-3d281b1e04da",
   "metadata": {},
   "source": [
    "## Calculate the Total Cost of Items in a shopping cart "
   ]
  },
  {
   "cell_type": "code",
   "execution_count": 6,
   "id": "3f3c104f-6495-4add-9dc5-deca2ea71a4d",
   "metadata": {},
   "outputs": [],
   "source": [
    "def calculate_total_cost(cart):\n",
    "    total_cost=0\n",
    "    for item in cart:\n",
    "        total_cost+=item['price']* item['quantity']\n",
    "        \n",
    "    return total_cost"
   ]
  },
  {
   "cell_type": "code",
   "execution_count": 7,
   "id": "84791a42-e3bf-413b-b454-760e2bec85cf",
   "metadata": {},
   "outputs": [],
   "source": [
    "cart=[\n",
    "    {'name': 'Apple', 'price': 10, 'quantity': 5},\n",
    "    {'name': 'Banana', 'price': 15, 'quantity': 10},\n",
    "    {'name': 'Orange', 'price': 20, 'quantity': 8},\n",
    "    {'name': 'Kiwi', 'price': 10, 'quantity': 15}\n",
    "]"
   ]
  },
  {
   "cell_type": "code",
   "execution_count": 8,
   "id": "eaad6333-21df-4f6a-b111-97a865f81032",
   "metadata": {},
   "outputs": [
    {
     "name": "stdout",
     "output_type": "stream",
     "text": [
      "510\n"
     ]
    }
   ],
   "source": [
    "total_cost = calculate_total_cost(cart)\n",
    "print(total_cost)"
   ]
  },
  {
   "cell_type": "markdown",
   "id": "ed16747e-f773-473a-b1a1-a82bb09ceffe",
   "metadata": {},
   "source": [
    "## Checking if a string is Palandrome or not (without using the 'Reverse function')"
   ]
  },
  {
   "cell_type": "code",
   "execution_count": 10,
   "id": "b0c56465-768d-4eb5-b3d3-32bd80e34905",
   "metadata": {},
   "outputs": [],
   "source": [
    "def is_palandrome(str):\n",
    "    str=str.lower().replace(\" \", \"\")\n",
    "    return str==str[::-1]"
   ]
  },
  {
   "cell_type": "code",
   "execution_count": 11,
   "id": "a66a73ff-57c9-4855-973c-515131310a8f",
   "metadata": {},
   "outputs": [
    {
     "name": "stdout",
     "output_type": "stream",
     "text": [
      "True\n",
      "False\n",
      "True\n"
     ]
    }
   ],
   "source": [
    "print(is_palandrome('A man a plan a canal panama'))\n",
    "print(is_palandrome('Thank you'))\n",
    "print(is_palandrome('1221'))"
   ]
  },
  {
   "cell_type": "markdown",
   "id": "88955231-dcea-40e2-866e-c1afd3dcf79a",
   "metadata": {},
   "source": [
    "## Factorial of a number using recursion"
   ]
  },
  {
   "cell_type": "code",
   "execution_count": 13,
   "id": "8b4004ab-3cc9-4d5c-92d2-cedb198133eb",
   "metadata": {},
   "outputs": [
    {
     "name": "stdout",
     "output_type": "stream",
     "text": [
      "3628800\n"
     ]
    }
   ],
   "source": [
    "def factorial(n):\n",
    "    if n==0:\n",
    "        return 1\n",
    "    else:\n",
    "        return n * factorial(n-1)\n",
    "\n",
    "print(factorial(10))"
   ]
  },
  {
   "cell_type": "markdown",
   "id": "bc0ed6d1-1fdf-4afc-8be7-cd92dfb80ee8",
   "metadata": {},
   "source": [
    "## Lambda Function -  Takes multiple arguments but contains only one expression"
   ]
  },
  {
   "cell_type": "code",
   "execution_count": 15,
   "id": "b9dfdbc5-105a-43a0-a8cc-2806fb38f473",
   "metadata": {},
   "outputs": [
    {
     "data": {
      "text/plain": [
       "53"
      ]
     },
     "execution_count": 15,
     "metadata": {},
     "output_type": "execute_result"
    }
   ],
   "source": [
    "# lets create a lambda function that performs addition\n",
    "add = lambda a,b : a+b\n",
    "add(45, 8)"
   ]
  },
  {
   "cell_type": "code",
   "execution_count": 16,
   "id": "3b38cd44-a33d-42ab-92e0-a1a9342072f1",
   "metadata": {},
   "outputs": [
    {
     "name": "stdout",
     "output_type": "stream",
     "text": [
      "True\n"
     ]
    }
   ],
   "source": [
    "# lets create another lambda function that prints even number\n",
    "even = lambda num: num%2==0\n",
    "print(even(24))"
   ]
  },
  {
   "cell_type": "markdown",
   "id": "00789fa4-fc90-4921-8105-98c342c162a5",
   "metadata": {},
   "source": [
    "## map() - This applies a function to all the items in a collection(e.g., list)"
   ]
  },
  {
   "cell_type": "code",
   "execution_count": 18,
   "id": "cd8e5a17-e249-4f49-beb8-b64f77b73165",
   "metadata": {},
   "outputs": [
    {
     "data": {
      "text/plain": [
       "[1, 4, 9, 16, 25, 36]"
      ]
     },
     "execution_count": 18,
     "metadata": {},
     "output_type": "execute_result"
    }
   ],
   "source": [
    "# lets write a map() function with lambda function to calculate the square of each numbers in a list\n",
    "numbers= [1, 2, 3, 4, 5, 6]\n",
    "list(map(lambda x: x**2, numbers))"
   ]
  },
  {
   "cell_type": "markdown",
   "id": "9f69579a-068f-4f02-9cc3-10380eb72e63",
   "metadata": {},
   "source": [
    "## The map() function applies a given function to all the items in input list (or any other iterable) and returns a map object (an iterator). This is particularly used for transforming data in a list comprehensively."
   ]
  },
  {
   "cell_type": "code",
   "execution_count": 20,
   "id": "eb983b1f-7f5a-4d6d-8dbe-78df432644e2",
   "metadata": {},
   "outputs": [
    {
     "name": "stdout",
     "output_type": "stream",
     "text": [
      "[5, 7, 9]\n"
     ]
    }
   ],
   "source": [
    "# MAP MULTIPLE ITERABLES\n",
    "list1 = [1, 2, 3]\n",
    "list2 = [4, 5, 6]\n",
    "added_numbers = list(map(lambda x,y: x+y, list1, list2))\n",
    "print(added_numbers)"
   ]
  },
  {
   "cell_type": "markdown",
   "id": "ae934f0f-8a55-4d62-a095-19377624841c",
   "metadata": {},
   "source": [
    "### Converting a list of lower case strings to upper case using map function\n"
   ]
  },
  {
   "cell_type": "code",
   "execution_count": 22,
   "id": "4af4b747-70db-4410-88e6-2a0e9966fe06",
   "metadata": {},
   "outputs": [
    {
     "name": "stdout",
     "output_type": "stream",
     "text": [
      "['APPLE', 'BANANA', 'MANGO', 'CHERRY']\n"
     ]
    }
   ],
   "source": [
    "words = ['apple', 'banana', 'mango', 'cherry']\n",
    "upper_words = list(map(str.upper, words))\n",
    "print(upper_words)"
   ]
  },
  {
   "cell_type": "code",
   "execution_count": 23,
   "id": "60343b2c-90bb-48fc-b401-4aed81b40b08",
   "metadata": {},
   "outputs": [
    {
     "data": {
      "text/plain": [
       "['Hamid', 'Abrar']"
      ]
     },
     "execution_count": 23,
     "metadata": {},
     "output_type": "execute_result"
    }
   ],
   "source": [
    "# Passing the list of dictionary in map() function\n",
    "def get_name(person):\n",
    "    return person['name']\n",
    "\n",
    "people = [\n",
    "    {'name': 'Hamid', 'age': 26},\n",
    "    {'name': 'Abrar', 'age': 30}\n",
    "]\n",
    "list(map(get_name, people))"
   ]
  },
  {
   "cell_type": "markdown",
   "id": "53dcbfc3-3b16-4db6-8ce6-0755529ae3c6",
   "metadata": {},
   "source": [
    "## Conclusion\n",
    "    The map() function is a powerful tool for applying transformations to iterable data structures. It can be used with the reqular functions, and even multiple iterables, providing a versatile approach to data processing in Python. By understanding and utilizing map(), we can write more efficient and readable code."
   ]
  },
  {
   "cell_type": "markdown",
   "id": "d11c6326-96e4-42a6-8e35-ed4ed799983c",
   "metadata": {},
   "source": [
    "---------------------------------------------------------------------------------------------------"
   ]
  },
  {
   "cell_type": "markdown",
   "id": "36dde729-d077-49f7-8413-27c56f79d613",
   "metadata": {},
   "source": [
    "## The filter() Function in Python\n",
    "\n",
    "    The filter() function constructs an iterator from elements of an iterable for which a function returns true. It is used to filter out items from a list (or any other iterable) based on a condition."
   ]
  },
  {
   "cell_type": "code",
   "execution_count": 27,
   "id": "d319410c-5266-4091-a2a2-ba9dce001d81",
   "metadata": {},
   "outputs": [
    {
     "data": {
      "text/plain": [
       "[6, 7, 8, 9, 10]"
      ]
     },
     "execution_count": 27,
     "metadata": {},
     "output_type": "execute_result"
    }
   ],
   "source": [
    "# filter() function with Lambda function\n",
    "\n",
    "numbers = [1,2, 3, 4, 5, 6, 7, 8, 9, 10]\n",
    "greater_than_five = list(filter(lambda x: x>5, numbers))\n",
    "greater_than_five"
   ]
  },
  {
   "cell_type": "code",
   "execution_count": 28,
   "id": "81cd419a-c4f2-4444-b425-a61f44f980bc",
   "metadata": {},
   "outputs": [
    {
     "data": {
      "text/plain": [
       "[2, 4, 6, 8, 10]"
      ]
     },
     "execution_count": 28,
     "metadata": {},
     "output_type": "execute_result"
    }
   ],
   "source": [
    "# Another example to filter out the even numbers for a list of numbers\n",
    "numbers = [1,2, 3, 4, 5, 6, 7, 8, 9, 10]\n",
    "even = list(filter(lambda x: x%2==0, numbers))\n",
    "even"
   ]
  },
  {
   "cell_type": "code",
   "execution_count": 29,
   "id": "ad53d917-4ca0-4f75-97b4-6410792df728",
   "metadata": {},
   "outputs": [
    {
     "data": {
      "text/plain": [
       "[6, 8, 10]"
      ]
     },
     "execution_count": 29,
     "metadata": {},
     "output_type": "execute_result"
    }
   ],
   "source": [
    "# Filter function with Lambda function and multiple conditions\n",
    "numbers = [1,2, 3, 4, 5, 6, 7, 8, 9, 10]\n",
    "even_and_greater_than_five = list(filter(lambda x: x>5 and x%2==0, numbers))\n",
    "even_and_greater_than_five"
   ]
  },
  {
   "cell_type": "code",
   "execution_count": 30,
   "id": "bf7abcf2-c028-4efb-97cb-8a0b90de7c28",
   "metadata": {},
   "outputs": [
    {
     "data": {
      "text/plain": [
       "[{'name': 'Hamid', 'age': 26},\n",
       " {'name': 'Abrar', 'age': 30},\n",
       " {'name': 'Abrar', 'age': 31}]"
      ]
     },
     "execution_count": 30,
     "metadata": {},
     "output_type": "execute_result"
    }
   ],
   "source": [
    "# Filter function to check if the age is greater than 25 in dictionary\n",
    "people = [\n",
    "    {'name': 'Hamid', 'age': 26},\n",
    "    {'name': 'Abrar', 'age': 30},\n",
    "    {'name': 'Hamid', 'age': 20},\n",
    "    {'name': 'Abrar', 'age': 31},\n",
    "]\n",
    "def age_greater_than_25(person):\n",
    "    return person['age'] > 25\n",
    "\n",
    "list(filter(age_greater_than_25, people))"
   ]
  },
  {
   "cell_type": "markdown",
   "id": "be09c4aa-d855-4be9-ba12-3722174ccb6f",
   "metadata": {},
   "source": [
    "## Conclusion\n",
    "\n",
    "    The filter() function is a powerful tool for creating iterators that filter items out of an iterable based on a function. It is commonly used for data cleaning, filtering objects, and removing unwanted elements from lists. By mastering filter(), we can write more conscise and efficient code for processing and manipulating collections in Python."
   ]
  },
  {
   "cell_type": "markdown",
   "id": "d3c6b9cb-8522-4b6c-8d10-306d45f30806",
   "metadata": {},
   "source": [
    "--------------------------------------------------------------------------------------------------------"
   ]
  },
  {
   "cell_type": "code",
   "execution_count": null,
   "id": "7ee494b4-2b70-4ea1-b290-b51d065c2393",
   "metadata": {},
   "outputs": [],
   "source": []
  }
 ],
 "metadata": {
  "kernelspec": {
   "display_name": "Python 3 (ipykernel)",
   "language": "python",
   "name": "python3"
  },
  "language_info": {
   "codemirror_mode": {
    "name": "ipython",
    "version": 3
   },
   "file_extension": ".py",
   "mimetype": "text/x-python",
   "name": "python",
   "nbconvert_exporter": "python",
   "pygments_lexer": "ipython3",
   "version": "3.11.9"
  }
 },
 "nbformat": 4,
 "nbformat_minor": 5
}

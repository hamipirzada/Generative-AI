{
 "cells": [
  {
   "cell_type": "code",
   "execution_count": 2,
   "id": "0c578cc0-edae-4533-9321-c021e843be69",
   "metadata": {},
   "outputs": [],
   "source": [
    "sent = \"The Eiffel Tower is a wrought-iron lattice tower on the Champ de Mars in Paris, France. It is named after the engineer Gustave Eiffel, whose company designed and built the tower from 1887 to 1889.\"\n",
    "'''\n",
    "Located in: Champ de Mars\n",
    "Address: Av. Gustave Eiffel, 75007 Paris, France\n",
    "Height: 300 m, 330 m to tip\n",
    "Architects: Stephen Sauvestre, Émile Nouguier, Maurice Koechlin\n",
    "Construction started: 26 January 1887\n",
    "Opened: 31 March 1889\n",
    "Main contractor: Compagnie des Etablissements Eiffel\n",
    "Floor count: 4 (3 accessible, 1 residual)\n",
    "'''"
   ]
  },
  {
   "cell_type": "code",
   "execution_count": 4,
   "id": "f00bd40a-3af7-4287-a342-904259194355",
   "metadata": {},
   "outputs": [],
   "source": [
    "sent = \"The Eiffel Tower is a wrought-iron lattice tower on the Champ de Mars in Paris, France. It is named after the engineer Gustave Eiffel, whose company designed and built the tower from 1887 to 1889.\""
   ]
  },
  {
   "cell_type": "code",
   "execution_count": 12,
   "id": "b5118015-3808-4a52-9f93-e35fd1d7e3b9",
   "metadata": {},
   "outputs": [],
   "source": [
    "import nltk\n",
    "words = nltk.word_tokenize(sent)"
   ]
  },
  {
   "cell_type": "code",
   "execution_count": 16,
   "id": "6df2b0f3-d1c9-40b5-8725-564b3ad6cd30",
   "metadata": {},
   "outputs": [],
   "source": [
    "tagged_elements = nltk.pos_tag(words)"
   ]
  },
  {
   "cell_type": "code",
   "execution_count": 28,
   "id": "7e0a9e09-348e-437e-bdb6-89e938b8875b",
   "metadata": {},
   "outputs": [],
   "source": [
    "nltk.ne_chunk(tagged_elements).draw()"
   ]
  },
  {
   "cell_type": "code",
   "execution_count": null,
   "id": "1e56055a-0bb0-40d0-bb6c-1d89a79ed3af",
   "metadata": {},
   "outputs": [],
   "source": []
  }
 ],
 "metadata": {
  "kernelspec": {
   "display_name": "Python 3 (ipykernel)",
   "language": "python",
   "name": "python3"
  },
  "language_info": {
   "codemirror_mode": {
    "name": "ipython",
    "version": 3
   },
   "file_extension": ".py",
   "mimetype": "text/x-python",
   "name": "python",
   "nbconvert_exporter": "python",
   "pygments_lexer": "ipython3",
   "version": "3.11.9"
  }
 },
 "nbformat": 4,
 "nbformat_minor": 5
}
